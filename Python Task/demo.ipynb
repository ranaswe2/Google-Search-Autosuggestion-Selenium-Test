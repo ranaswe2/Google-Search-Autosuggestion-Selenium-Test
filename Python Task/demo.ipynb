{
 "cells": [
  {
   "cell_type": "code",
   "execution_count": 1,
   "metadata": {},
   "outputs": [
    {
     "name": "stdout",
     "output_type": "stream",
     "text": [
      "Defaulting to user installation because normal site-packages is not writeable\n",
      "Collecting selenium\n",
      "  Downloading selenium-4.27.1-py3-none-any.whl.metadata (7.1 kB)\n",
      "Requirement already satisfied: urllib3<3,>=1.26 in c:\\python312\\lib\\site-packages (from urllib3[socks]<3,>=1.26->selenium) (2.2.0)\n",
      "Collecting trio~=0.17 (from selenium)\n",
      "  Downloading trio-0.27.0-py3-none-any.whl.metadata (8.6 kB)\n",
      "Collecting trio-websocket~=0.9 (from selenium)\n",
      "  Downloading trio_websocket-0.11.1-py3-none-any.whl.metadata (4.7 kB)\n",
      "Requirement already satisfied: certifi>=2021.10.8 in c:\\users\\ranas\\appdata\\roaming\\python\\python312\\site-packages (from selenium) (2024.2.2)\n",
      "Requirement already satisfied: typing_extensions~=4.9 in c:\\python312\\lib\\site-packages (from selenium) (4.9.0)\n",
      "Collecting websocket-client~=1.8 (from selenium)\n",
      "  Downloading websocket_client-1.8.0-py3-none-any.whl.metadata (8.0 kB)\n",
      "Requirement already satisfied: attrs>=23.2.0 in c:\\users\\ranas\\appdata\\roaming\\python\\python312\\site-packages (from trio~=0.17->selenium) (23.2.0)\n",
      "Collecting sortedcontainers (from trio~=0.17->selenium)\n",
      "  Downloading sortedcontainers-2.4.0-py2.py3-none-any.whl.metadata (10 kB)\n",
      "Requirement already satisfied: idna in c:\\users\\ranas\\appdata\\roaming\\python\\python312\\site-packages (from trio~=0.17->selenium) (3.6)\n",
      "Collecting outcome (from trio~=0.17->selenium)\n",
      "  Downloading outcome-1.3.0.post0-py2.py3-none-any.whl.metadata (2.6 kB)\n",
      "Requirement already satisfied: sniffio>=1.3.0 in c:\\python312\\lib\\site-packages (from trio~=0.17->selenium) (1.3.0)\n",
      "Collecting cffi>=1.14 (from trio~=0.17->selenium)\n",
      "  Downloading cffi-1.17.1-cp312-cp312-win_amd64.whl.metadata (1.6 kB)\n",
      "Collecting wsproto>=0.14 (from trio-websocket~=0.9->selenium)\n",
      "  Downloading wsproto-1.2.0-py3-none-any.whl.metadata (5.6 kB)\n",
      "Collecting pysocks!=1.5.7,<2.0,>=1.5.6 (from urllib3[socks]<3,>=1.26->selenium)\n",
      "  Downloading PySocks-1.7.1-py3-none-any.whl.metadata (13 kB)\n",
      "Collecting pycparser (from cffi>=1.14->trio~=0.17->selenium)\n",
      "  Downloading pycparser-2.22-py3-none-any.whl.metadata (943 bytes)\n",
      "Requirement already satisfied: h11<1,>=0.9.0 in c:\\users\\ranas\\appdata\\roaming\\python\\python312\\site-packages (from wsproto>=0.14->trio-websocket~=0.9->selenium) (0.14.0)\n",
      "Downloading selenium-4.27.1-py3-none-any.whl (9.7 MB)\n",
      "   ---------------------------------------- 0.0/9.7 MB ? eta -:--:--\n",
      "   - -------------------------------------- 0.3/9.7 MB ? eta -:--:--\n",
      "   -- ------------------------------------- 0.5/9.7 MB 1.4 MB/s eta 0:00:07\n",
      "   --- ------------------------------------ 0.8/9.7 MB 1.2 MB/s eta 0:00:08\n",
      "   ----- ---------------------------------- 1.3/9.7 MB 1.3 MB/s eta 0:00:07\n",
      "   ------ --------------------------------- 1.6/9.7 MB 1.3 MB/s eta 0:00:07\n",
      "   ------- -------------------------------- 1.8/9.7 MB 1.3 MB/s eta 0:00:07\n",
      "   -------- ------------------------------- 2.1/9.7 MB 1.3 MB/s eta 0:00:06\n",
      "   --------- ------------------------------ 2.4/9.7 MB 1.3 MB/s eta 0:00:06\n",
      "   ---------- ----------------------------- 2.6/9.7 MB 1.3 MB/s eta 0:00:06\n",
      "   ----------- ---------------------------- 2.9/9.7 MB 1.3 MB/s eta 0:00:06\n",
      "   ------------ --------------------------- 3.1/9.7 MB 1.3 MB/s eta 0:00:06\n",
      "   -------------- ------------------------- 3.4/9.7 MB 1.2 MB/s eta 0:00:06\n",
      "   -------------- ------------------------- 3.4/9.7 MB 1.2 MB/s eta 0:00:06\n",
      "   --------------- ------------------------ 3.7/9.7 MB 1.2 MB/s eta 0:00:05\n",
      "   ---------------- ----------------------- 3.9/9.7 MB 1.2 MB/s eta 0:00:05\n",
      "   ----------------- ---------------------- 4.2/9.7 MB 1.2 MB/s eta 0:00:05\n",
      "   ------------------ --------------------- 4.5/9.7 MB 1.2 MB/s eta 0:00:05\n",
      "   ------------------- -------------------- 4.7/9.7 MB 1.2 MB/s eta 0:00:05\n",
      "   -------------------- ------------------- 5.0/9.7 MB 1.2 MB/s eta 0:00:04\n",
      "   --------------------- ------------------ 5.2/9.7 MB 1.2 MB/s eta 0:00:04\n",
      "   ---------------------- ----------------- 5.5/9.7 MB 1.2 MB/s eta 0:00:04\n",
      "   ----------------------- ---------------- 5.8/9.7 MB 1.2 MB/s eta 0:00:04\n",
      "   ------------------------ --------------- 6.0/9.7 MB 1.2 MB/s eta 0:00:04\n",
      "   ------------------------- -------------- 6.3/9.7 MB 1.2 MB/s eta 0:00:03\n",
      "   --------------------------- ------------ 6.6/9.7 MB 1.2 MB/s eta 0:00:03\n",
      "   ---------------------------- ----------- 6.8/9.7 MB 1.2 MB/s eta 0:00:03\n",
      "   ----------------------------- ---------- 7.1/9.7 MB 1.2 MB/s eta 0:00:03\n",
      "   ------------------------------ --------- 7.3/9.7 MB 1.2 MB/s eta 0:00:02\n",
      "   ------------------------------- -------- 7.6/9.7 MB 1.2 MB/s eta 0:00:02\n",
      "   -------------------------------- ------- 7.9/9.7 MB 1.2 MB/s eta 0:00:02\n",
      "   --------------------------------- ------ 8.1/9.7 MB 1.2 MB/s eta 0:00:02\n",
      "   ---------------------------------- ----- 8.4/9.7 MB 1.2 MB/s eta 0:00:02\n",
      "   ----------------------------------- ---- 8.7/9.7 MB 1.2 MB/s eta 0:00:01\n",
      "   ------------------------------------ --- 8.9/9.7 MB 1.2 MB/s eta 0:00:01\n",
      "   ------------------------------------- -- 9.2/9.7 MB 1.2 MB/s eta 0:00:01\n",
      "   ------------------------------------- -- 9.2/9.7 MB 1.2 MB/s eta 0:00:01\n",
      "   -------------------------------------- - 9.4/9.7 MB 1.2 MB/s eta 0:00:01\n",
      "   ---------------------------------------  9.7/9.7 MB 1.2 MB/s eta 0:00:01\n",
      "   ---------------------------------------- 9.7/9.7 MB 1.2 MB/s eta 0:00:00\n",
      "Downloading trio-0.27.0-py3-none-any.whl (481 kB)\n",
      "Downloading trio_websocket-0.11.1-py3-none-any.whl (17 kB)\n",
      "Downloading websocket_client-1.8.0-py3-none-any.whl (58 kB)\n",
      "Downloading cffi-1.17.1-cp312-cp312-win_amd64.whl (181 kB)\n",
      "Downloading PySocks-1.7.1-py3-none-any.whl (16 kB)\n",
      "Downloading wsproto-1.2.0-py3-none-any.whl (24 kB)\n",
      "Downloading outcome-1.3.0.post0-py2.py3-none-any.whl (10 kB)\n",
      "Downloading sortedcontainers-2.4.0-py2.py3-none-any.whl (29 kB)\n",
      "Downloading pycparser-2.22-py3-none-any.whl (117 kB)\n",
      "Installing collected packages: sortedcontainers, wsproto, websocket-client, pysocks, pycparser, outcome, cffi, trio, trio-websocket, selenium\n",
      "Successfully installed cffi-1.17.1 outcome-1.3.0.post0 pycparser-2.22 pysocks-1.7.1 selenium-4.27.1 sortedcontainers-2.4.0 trio-0.27.0 trio-websocket-0.11.1 websocket-client-1.8.0 wsproto-1.2.0\n",
      "Note: you may need to restart the kernel to use updated packages.\n"
     ]
    },
    {
     "name": "stderr",
     "output_type": "stream",
     "text": [
      "WARNING: Ignoring invalid distribution ~ (c:\\Python312\\Lib\\site-packages)\n",
      "WARNING: Ignoring invalid distribution ~-p (c:\\Python312\\Lib\\site-packages)\n",
      "WARNING: Ignoring invalid distribution ~ip (c:\\Python312\\Lib\\site-packages)\n",
      "WARNING: Ignoring invalid distribution ~~p (c:\\Python312\\Lib\\site-packages)\n",
      "WARNING: Ignoring invalid distribution ~ (c:\\Python312\\Lib\\site-packages)\n",
      "WARNING: Ignoring invalid distribution ~-p (c:\\Python312\\Lib\\site-packages)\n",
      "WARNING: Ignoring invalid distribution ~ip (c:\\Python312\\Lib\\site-packages)\n",
      "WARNING: Ignoring invalid distribution ~~p (c:\\Python312\\Lib\\site-packages)\n"
     ]
    }
   ],
   "source": [
    "pip install selenium"
   ]
  },
  {
   "cell_type": "code",
   "execution_count": 2,
   "metadata": {},
   "outputs": [
    {
     "name": "stdout",
     "output_type": "stream",
     "text": [
      "Defaulting to user installation because normal site-packages is not writeable\n",
      "Collecting webdriver-manager\n",
      "  Downloading webdriver_manager-4.0.2-py2.py3-none-any.whl.metadata (12 kB)\n",
      "Requirement already satisfied: requests in c:\\users\\ranas\\appdata\\roaming\\python\\python312\\site-packages (from webdriver-manager) (2.31.0)\n",
      "Collecting python-dotenv (from webdriver-manager)\n",
      "  Downloading python_dotenv-1.0.1-py3-none-any.whl.metadata (23 kB)\n",
      "Requirement already satisfied: packaging in c:\\python312\\lib\\site-packages (from webdriver-manager) (23.2)\n",
      "Requirement already satisfied: charset-normalizer<4,>=2 in c:\\users\\ranas\\appdata\\roaming\\python\\python312\\site-packages (from requests->webdriver-manager) (3.3.2)\n",
      "Requirement already satisfied: idna<4,>=2.5 in c:\\users\\ranas\\appdata\\roaming\\python\\python312\\site-packages (from requests->webdriver-manager) (3.6)\n",
      "Requirement already satisfied: urllib3<3,>=1.21.1 in c:\\python312\\lib\\site-packages (from requests->webdriver-manager) (2.2.0)\n",
      "Requirement already satisfied: certifi>=2017.4.17 in c:\\users\\ranas\\appdata\\roaming\\python\\python312\\site-packages (from requests->webdriver-manager) (2024.2.2)\n",
      "Downloading webdriver_manager-4.0.2-py2.py3-none-any.whl (27 kB)\n",
      "Downloading python_dotenv-1.0.1-py3-none-any.whl (19 kB)\n",
      "Installing collected packages: python-dotenv, webdriver-manager\n",
      "Successfully installed python-dotenv-1.0.1 webdriver-manager-4.0.2\n",
      "Note: you may need to restart the kernel to use updated packages.\n"
     ]
    },
    {
     "name": "stderr",
     "output_type": "stream",
     "text": [
      "WARNING: Ignoring invalid distribution ~ (c:\\Python312\\Lib\\site-packages)\n",
      "WARNING: Ignoring invalid distribution ~-p (c:\\Python312\\Lib\\site-packages)\n",
      "WARNING: Ignoring invalid distribution ~ip (c:\\Python312\\Lib\\site-packages)\n",
      "WARNING: Ignoring invalid distribution ~~p (c:\\Python312\\Lib\\site-packages)\n",
      "WARNING: Ignoring invalid distribution ~ (c:\\Python312\\Lib\\site-packages)\n",
      "WARNING: Ignoring invalid distribution ~-p (c:\\Python312\\Lib\\site-packages)\n",
      "WARNING: Ignoring invalid distribution ~ip (c:\\Python312\\Lib\\site-packages)\n",
      "WARNING: Ignoring invalid distribution ~~p (c:\\Python312\\Lib\\site-packages)\n"
     ]
    }
   ],
   "source": [
    "pip install webdriver-manager"
   ]
  },
  {
   "cell_type": "code",
   "execution_count": 5,
   "metadata": {},
   "outputs": [
    {
     "name": "stdout",
     "output_type": "stream",
     "text": [
      "Defaulting to user installation because normal site-packages is not writeableNote: you may need to restart the kernel to use updated packages.\n",
      "\n",
      "Requirement already satisfied: selenium in c:\\users\\ranas\\appdata\\roaming\\python\\python312\\site-packages (4.27.1)\n",
      "Requirement already satisfied: openpyxl in c:\\python312\\lib\\site-packages (3.1.2)\n",
      "Requirement already satisfied: webdriver-manager in c:\\users\\ranas\\appdata\\roaming\\python\\python312\\site-packages (4.0.2)\n",
      "Requirement already satisfied: urllib3<3,>=1.26 in c:\\python312\\lib\\site-packages (from urllib3[socks]<3,>=1.26->selenium) (2.2.0)\n",
      "Requirement already satisfied: trio~=0.17 in c:\\users\\ranas\\appdata\\roaming\\python\\python312\\site-packages (from selenium) (0.27.0)\n",
      "Requirement already satisfied: trio-websocket~=0.9 in c:\\users\\ranas\\appdata\\roaming\\python\\python312\\site-packages (from selenium) (0.11.1)\n",
      "Requirement already satisfied: certifi>=2021.10.8 in c:\\users\\ranas\\appdata\\roaming\\python\\python312\\site-packages (from selenium) (2024.2.2)\n",
      "Requirement already satisfied: typing_extensions~=4.9 in c:\\python312\\lib\\site-packages (from selenium) (4.9.0)\n"
     ]
    },
    {
     "name": "stderr",
     "output_type": "stream",
     "text": [
      "WARNING: Ignoring invalid distribution ~ (c:\\Python312\\Lib\\site-packages)\n",
      "WARNING: Ignoring invalid distribution ~-p (c:\\Python312\\Lib\\site-packages)\n",
      "WARNING: Ignoring invalid distribution ~ip (c:\\Python312\\Lib\\site-packages)\n",
      "WARNING: Ignoring invalid distribution ~~p (c:\\Python312\\Lib\\site-packages)\n",
      "WARNING: Ignoring invalid distribution ~ (c:\\Python312\\Lib\\site-packages)\n",
      "WARNING: Ignoring invalid distribution ~-p (c:\\Python312\\Lib\\site-packages)\n",
      "WARNING: Ignoring invalid distribution ~ip (c:\\Python312\\Lib\\site-packages)\n",
      "WARNING: Ignoring invalid distribution ~~p (c:\\Python312\\Lib\\site-packages)\n"
     ]
    },
    {
     "name": "stdout",
     "output_type": "stream",
     "text": [
      "Requirement already satisfied: websocket-client~=1.8 in c:\\users\\ranas\\appdata\\roaming\\python\\python312\\site-packages (from selenium) (1.8.0)\n",
      "Requirement already satisfied: et-xmlfile in c:\\python312\\lib\\site-packages (from openpyxl) (1.1.0)\n",
      "Requirement already satisfied: requests in c:\\users\\ranas\\appdata\\roaming\\python\\python312\\site-packages (from webdriver-manager) (2.31.0)\n",
      "Requirement already satisfied: python-dotenv in c:\\users\\ranas\\appdata\\roaming\\python\\python312\\site-packages (from webdriver-manager) (1.0.1)\n",
      "Requirement already satisfied: packaging in c:\\python312\\lib\\site-packages (from webdriver-manager) (23.2)\n",
      "Requirement already satisfied: attrs>=23.2.0 in c:\\users\\ranas\\appdata\\roaming\\python\\python312\\site-packages (from trio~=0.17->selenium) (23.2.0)\n",
      "Requirement already satisfied: sortedcontainers in c:\\users\\ranas\\appdata\\roaming\\python\\python312\\site-packages (from trio~=0.17->selenium) (2.4.0)\n",
      "Requirement already satisfied: idna in c:\\users\\ranas\\appdata\\roaming\\python\\python312\\site-packages (from trio~=0.17->selenium) (3.6)\n",
      "Requirement already satisfied: outcome in c:\\users\\ranas\\appdata\\roaming\\python\\python312\\site-packages (from trio~=0.17->selenium) (1.3.0.post0)\n",
      "Requirement already satisfied: sniffio>=1.3.0 in c:\\python312\\lib\\site-packages (from trio~=0.17->selenium) (1.3.0)\n",
      "Requirement already satisfied: cffi>=1.14 in c:\\users\\ranas\\appdata\\roaming\\python\\python312\\site-packages (from trio~=0.17->selenium) (1.17.1)\n",
      "Requirement already satisfied: wsproto>=0.14 in c:\\users\\ranas\\appdata\\roaming\\python\\python312\\site-packages (from trio-websocket~=0.9->selenium) (1.2.0)\n",
      "Requirement already satisfied: pysocks!=1.5.7,<2.0,>=1.5.6 in c:\\users\\ranas\\appdata\\roaming\\python\\python312\\site-packages (from urllib3[socks]<3,>=1.26->selenium) (1.7.1)\n",
      "Requirement already satisfied: charset-normalizer<4,>=2 in c:\\users\\ranas\\appdata\\roaming\\python\\python312\\site-packages (from requests->webdriver-manager) (3.3.2)\n",
      "Requirement already satisfied: pycparser in c:\\users\\ranas\\appdata\\roaming\\python\\python312\\site-packages (from cffi>=1.14->trio~=0.17->selenium) (2.22)\n",
      "Requirement already satisfied: h11<1,>=0.9.0 in c:\\users\\ranas\\appdata\\roaming\\python\\python312\\site-packages (from wsproto>=0.14->trio-websocket~=0.9->selenium) (0.14.0)\n"
     ]
    }
   ],
   "source": [
    "pip install selenium openpyxl webdriver-manager\n"
   ]
  },
  {
   "cell_type": "code",
   "execution_count": 1,
   "metadata": {},
   "outputs": [
    {
     "name": "stdout",
     "output_type": "stream",
     "text": [
      "['ঢাকা\\nবাংলাদেশ এর রাজধানী', 'ঢাকা মেট্রো', 'ঢাকা বিশ্ববিদ্যালয়\\nবিশ্ববিদ্যালয়, ঢাকা, বাংলাদেশ', 'dhaka post', 'ঢাকা স্টক এক্সচেঞ্জ', 'ঢাকা বিশ্ববিদ্যালয় কেন্দ্রীয় ছাত্র সংসদ (ডাকসু)', 'ঢাকা দক্ষিণ সিটি কর্পোরেশন', 'ঢাকা মেডিকেল কলেজ হাসপাতাল\\nকলেজ, ঢাকা, বাংলাদেশ', 'ঢাকা রেসিডেনসিয়াল মডেল স্কুল ভর্তি 2025', 'dhaka board\\nমাধ্যমিক ও উচ্চমাধ্যমিক শিক্ষা বোর্ড, ঢাকা · 5 জয়নাগ রোড, ঢাকা']\n"
     ]
    }
   ],
   "source": [
    "from selenium import webdriver\n",
    "from selenium.webdriver.common.by import By\n",
    "from selenium.webdriver.common.keys import Keys\n",
    "from selenium.webdriver.chrome.service import Service\n",
    "from webdriver_manager.chrome import ChromeDriverManager\n",
    "\n",
    "def get_suggestions(search_term):\n",
    "\n",
    "    driver = webdriver.Chrome(service=Service(ChromeDriverManager().install()))\n",
    "    driver.get(\"https://www.google.com\")\n",
    "\n",
    "    search_box = driver.find_element(By.NAME, \"q\")\n",
    "    search_box.send_keys(search_term)\n",
    "\n",
    "    # Wait for suggestions to appear \n",
    "    driver.implicitly_wait(5)\n",
    "    suggestions = driver.find_elements(By.XPATH, \"//ul[@class='G43f7e']/li\")\n",
    "    suggestions_list = [suggestion.text for suggestion in suggestions]\n",
    "\n",
    "    driver.quit()\n",
    "    return suggestions_list\n",
    "\n",
    "# Test data:\n",
    "search_term = \"dhaka\"\n",
    "suggestions = get_suggestions(search_term)\n",
    "print(suggestions)"
   ]
  }
 ],
 "metadata": {
  "kernelspec": {
   "display_name": "Python 3",
   "language": "python",
   "name": "python3"
  },
  "language_info": {
   "codemirror_mode": {
    "name": "ipython",
    "version": 3
   },
   "file_extension": ".py",
   "mimetype": "text/x-python",
   "name": "python",
   "nbconvert_exporter": "python",
   "pygments_lexer": "ipython3",
   "version": "3.12.6"
  }
 },
 "nbformat": 4,
 "nbformat_minor": 2
}
